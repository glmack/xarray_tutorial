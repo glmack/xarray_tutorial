{
 "cells": [
  {
   "cell_type": "markdown",
   "metadata": {},
   "source": [
    "# Data Structures \n",
    "\n",
    "xarray has two core data structures. Both are fundamentally N-dimensional:\n",
    "\n",
    "- DataArray is xarray's implementation of a labeled, N-dimensional array.\n",
    "- Dataset is a multi-dimensional, in-memory array database. It is a dict-like container of DataArray objects aligned along any number of shared dimensions.\n",
    "\n",
    "-----\n",
    "\n",
    "### Outline\n",
    "- Arrays of Numbers (Numpy is Python's most common array library)\n",
    "- The common data model (labels, netcdf)\n",
    "- N-Dimensional labeled arrays (xarray)\n",
    "  - DataArray\n",
    "  - Dataset\n",
    "  \n",
    "### Tutorial Duriation\n",
    "10 minutes\n",
    "\n",
    "### Going Further\n",
    "\n",
    "Xarray Documentation on Data Structures: http://xarray.pydata.org/en/latest/data-structures.html"
   ]
  },
  {
   "cell_type": "code",
   "execution_count": 1,
   "metadata": {},
   "outputs": [],
   "source": [
    "import numpy as np\n",
    "import xarray as xr"
   ]
  },
  {
   "cell_type": "markdown",
   "metadata": {},
   "source": [
    "## Arrays of Numbers\n",
    "\n",
    "Unlabeled, N-dimensional arrays of numbers (e.g., NumPy’s ndarray) are the most widely used data structure in scientific computing. However, they lack a meaningful representation of the metadata associated with their data. Implementing such functionality is left to individual users and domain-specific packages. As a result, programmers frequently encounter pitfalls in the form of questions like “is the time axis of my array in the first or third index position?” or “does my array of timestamps still align with my data after resampling?”."
   ]
  },
  {
   "cell_type": "code",
   "execution_count": 2,
   "metadata": {},
   "outputs": [
    {
     "data": {
      "text/plain": [
       "array([[[0.16458501, 0.22890098, 0.6603238 , 0.66499901, 0.96993998,\n",
       "         0.10567837],\n",
       "        [0.96137061, 0.19561085, 0.5465629 , 0.49245824, 0.78988666,\n",
       "         0.91943141],\n",
       "        [0.85804072, 0.58853909, 0.31112584, 0.50111794, 0.15134897,\n",
       "         0.42712079]],\n",
       "\n",
       "       [[0.91287625, 0.53853181, 0.65308027, 0.50718632, 0.52769669,\n",
       "         0.99929553],\n",
       "        [0.217798  , 0.09783247, 0.16365727, 0.50937077, 0.29407949,\n",
       "         0.08394316],\n",
       "        [0.88152003, 0.64193929, 0.08420551, 0.49053674, 0.10245016,\n",
       "         0.57029072]]])"
      ]
     },
     "execution_count": 2,
     "metadata": {},
     "output_type": "execute_result"
    }
   ],
   "source": [
    "myvar = np.random.random(size=(2, 3, 6))\n",
    "myvar"
   ]
  },
  {
   "cell_type": "markdown",
   "metadata": {},
   "source": [
    "## The Common Data Model and Inspiration from NetCDF\n",
    "\n",
    "![](images/dataset-diagram.png)\n",
    "*An example of how a dataset (netCDF or xarray) for a weather forecast might be structured. This dataset has three dimensions, time, y, and x, each of which is also a one-dimensional coordinate. Temperature and precipitation are three-dimensional data variables. Also included in the dataset are two-dimensional coordinates latitude and longitude, having dimensions y and x, and reference time, a zero-dimensional (scalar) coordinate.*\n",
    "\n",
    "xarray adopts Unidata’s self-describing Common Data Model on which the network Common Data Form (netCDF) is built [20, 7]. NetCDF provides a well-defined data model for labeled N-dimensional array-oriented scientific data analysis."
   ]
  },
  {
   "cell_type": "markdown",
   "metadata": {},
   "source": [
    "## Xarray Data Structures\n",
    "\n",
    "![](images/xarray-data-structures.png)\n",
    "\n",
    "The Common Data Model and NetCDF forms the basis of the xarray data model and provides a natural and portable serialization format. Building on netCDF, xarray features two main data structures: the DataArray and the Dataset. The API for these data structures is summarized in the following sections and in the figure above."
   ]
  },
  {
   "cell_type": "markdown",
   "metadata": {},
   "source": [
    "## `xarray.DataArray`\n",
    "\n",
    "The DataArray is xarray’s implementation of a labeled, multi-dimensional array. It has several key properties:\n",
    "\n",
    "- data: N-dimensional array (NumPy or dask) holding the array's values,\n",
    "- coords: dict-like container of arrays (coordinates) that label each point (e.g., 1-dimensional arrays of numbers, datetime objects or strings),\n",
    "- dims: dimension names for each axis [e.g., (‘time’, ‘latitude’, ‘longitude’)],\n",
    "- attrs: OrderedDict holding arbitrary metadata (e.g. units or descriptions), and\n",
    "- name: an arbitrary name for the array.\n",
    "\n",
    "xarray uses dims and coords to enable its core metadata-aware operations. \n",
    "- Dimensions provide names that xarray uses instead of the axis argument found in many NumPy functions.\n",
    "- Coordinates are ancillary variables used to enable fast label based indexing and alignment, building on the functionality of the pandas Index. \n",
    "- DataArray objects also can have a name and can hold arbitrary metadata in the form of their attrs property, which can be used to further describe data (e.g. by providing units). \n",
    "- Names and attributes are strictly for users and user-written code; in general xarray makes no attempt to interpret them, and propagates them only in unambiguous cases. \n",
    "- In contrast, xarray does interpret and persist coordinates in operations that transform xarray objects.\n",
    "\n"
   ]
  },
  {
   "cell_type": "code",
   "execution_count": 3,
   "metadata": {},
   "outputs": [
    {
     "data": {
      "text/plain": [
       "<xarray.DataArray (dim_0: 2, dim_1: 3, dim_2: 6)>\n",
       "array([[[0.164585, 0.228901, 0.660324, 0.664999, 0.96994 , 0.105678],\n",
       "        [0.961371, 0.195611, 0.546563, 0.492458, 0.789887, 0.919431],\n",
       "        [0.858041, 0.588539, 0.311126, 0.501118, 0.151349, 0.427121]],\n",
       "\n",
       "       [[0.912876, 0.538532, 0.65308 , 0.507186, 0.527697, 0.999296],\n",
       "        [0.217798, 0.097832, 0.163657, 0.509371, 0.294079, 0.083943],\n",
       "        [0.88152 , 0.641939, 0.084206, 0.490537, 0.10245 , 0.570291]]])\n",
       "Dimensions without coordinates: dim_0, dim_1, dim_2"
      ]
     },
     "execution_count": 3,
     "metadata": {},
     "output_type": "execute_result"
    }
   ],
   "source": [
    "my_da = xr.DataArray(myvar)\n",
    "my_da"
   ]
  },
  {
   "cell_type": "code",
   "execution_count": 4,
   "metadata": {},
   "outputs": [
    {
     "data": {
      "text/plain": [
       "<xarray.DataArray 'temp' (lat: 2, lon: 3, time: 6)>\n",
       "array([[[0.164585, 0.228901, 0.660324, 0.664999, 0.96994 , 0.105678],\n",
       "        [0.961371, 0.195611, 0.546563, 0.492458, 0.789887, 0.919431],\n",
       "        [0.858041, 0.588539, 0.311126, 0.501118, 0.151349, 0.427121]],\n",
       "\n",
       "       [[0.912876, 0.538532, 0.65308 , 0.507186, 0.527697, 0.999296],\n",
       "        [0.217798, 0.097832, 0.163657, 0.509371, 0.294079, 0.083943],\n",
       "        [0.88152 , 0.641939, 0.084206, 0.490537, 0.10245 , 0.570291]]])\n",
       "Coordinates:\n",
       "  * lat      (lat) float64 15.0 30.0\n",
       "  * lon      (lon) float64 -110.0 -115.0 -120.0\n",
       "Dimensions without coordinates: time\n",
       "Attributes:\n",
       "    long_name:  temperature\n",
       "    units:      C"
      ]
     },
     "execution_count": 4,
     "metadata": {},
     "output_type": "execute_result"
    }
   ],
   "source": [
    "# Adding labels/metadata\n",
    "my_da = xr.DataArray(myvar,\n",
    "                     dims=('lat', 'lon', 'time'),\n",
    "                     coords={'lat': [15., 30.], 'lon': [-110., -115., -120.]},\n",
    "                     attrs={'long_name': 'temperature', 'units': 'C'},\n",
    "                     name='temp')\n",
    "my_da"
   ]
  },
  {
   "cell_type": "code",
   "execution_count": 5,
   "metadata": {},
   "outputs": [
    {
     "data": {
      "text/plain": [
       "array([[[0.16458501, 0.22890098, 0.6603238 , 0.66499901, 0.96993998,\n",
       "         0.10567837],\n",
       "        [0.96137061, 0.19561085, 0.5465629 , 0.49245824, 0.78988666,\n",
       "         0.91943141],\n",
       "        [0.85804072, 0.58853909, 0.31112584, 0.50111794, 0.15134897,\n",
       "         0.42712079]],\n",
       "\n",
       "       [[0.91287625, 0.53853181, 0.65308027, 0.50718632, 0.52769669,\n",
       "         0.99929553],\n",
       "        [0.217798  , 0.09783247, 0.16365727, 0.50937077, 0.29407949,\n",
       "         0.08394316],\n",
       "        [0.88152003, 0.64193929, 0.08420551, 0.49053674, 0.10245016,\n",
       "         0.57029072]]])"
      ]
     },
     "execution_count": 5,
     "metadata": {},
     "output_type": "execute_result"
    }
   ],
   "source": [
    "# The underlying data is still there:\n",
    "my_da.data"
   ]
  },
  {
   "cell_type": "markdown",
   "metadata": {},
   "source": [
    "## `xarray.Dataset`\n",
    "\n",
    "The Dataset is xarray’s multi-dimensional equivalent of a DataFrame. It is a dict-like container of labeled arrays (DataArrays) with aligned dimensions. It is designed as an in-memory representation of a netCDF dataset. In addition to the dict-like interface of the dataset itself, which can be used to access any DataArray in a Dataset, datasets have four key properties:\n",
    "\n",
    "- data_vars: OrderedDict of DataArray objects corresponding to data variables,\n",
    "- coords: OrderedDict of DataArray objects intended to label points used in data_vars (e.g., 1-dimensional arrays of numbers, datetime objects or strings),\n",
    "- dims: dictionary mapping from dimension names to the fixed length of each dimension (e.g., {‘x’: 6, ‘y’: 6, ‘time’: 8}), and\n",
    "- attrs: OrderedDict to hold arbitrary metadata pertaining to the dataset.\n",
    "DataArray objects inside a Dataset may have any number of dimensions but are presumed to share a common coordinate system. Coordinates can also have any number of dimensions but denote constant/independent quantities, unlike the varying/dependent quantities that belong in data. Figure 3 illustrates these concepts for an example Dataset containing meteorological data."
   ]
  },
  {
   "cell_type": "code",
   "execution_count": 6,
   "metadata": {},
   "outputs": [
    {
     "data": {
      "text/plain": [
       "<xarray.Dataset>\n",
       "Dimensions:  ()\n",
       "Data variables:\n",
       "    *empty*"
      ]
     },
     "execution_count": 6,
     "metadata": {},
     "output_type": "execute_result"
    }
   ],
   "source": [
    "# Datasets are dict-like containers of DataArrays\n",
    "\n",
    "xr.Dataset()"
   ]
  },
  {
   "cell_type": "code",
   "execution_count": 7,
   "metadata": {},
   "outputs": [
    {
     "data": {
      "text/plain": [
       "<xarray.Dataset>\n",
       "Dimensions:      (lat: 2, lon: 3, time: 6)\n",
       "Coordinates:\n",
       "  * lat          (lat) float64 15.0 30.0\n",
       "  * lon          (lon) float64 -110.0 -115.0 -120.0\n",
       "Dimensions without coordinates: time\n",
       "Data variables:\n",
       "    temperature  (lat, lon, time) float64 0.1646 0.2289 0.6603 ... 0.1025 0.5703"
      ]
     },
     "execution_count": 7,
     "metadata": {},
     "output_type": "execute_result"
    }
   ],
   "source": [
    "my_ds = xr.Dataset({'temperature': my_da})\n",
    "# also equivalent to:\n",
    "# my_da.to_dataset()\n",
    "my_ds"
   ]
  },
  {
   "cell_type": "code",
   "execution_count": 8,
   "metadata": {},
   "outputs": [],
   "source": [
    "my_ds['precipitation'] = xr.DataArray(np.random.random(myvar.shape),\n",
    "                                      dims=('lat', 'lon', 'time'),\n",
    "                                      coords={'lat': [15., 30.], 'lon': [-110., -115., -120.]},\n",
    "                                      attrs={'long_name': 'precipitation', 'units': 'mm'},\n",
    "                                      name='pcp') \n",
    "\n",
    "my_ds.attrs['history'] = 'created for the xarray tutorial'"
   ]
  },
  {
   "cell_type": "code",
   "execution_count": 9,
   "metadata": {},
   "outputs": [
    {
     "data": {
      "text/plain": [
       "<xarray.Dataset>\n",
       "Dimensions:        (lat: 2, lon: 3, time: 6)\n",
       "Coordinates:\n",
       "  * lat            (lat) float64 15.0 30.0\n",
       "  * lon            (lon) float64 -110.0 -115.0 -120.0\n",
       "Dimensions without coordinates: time\n",
       "Data variables:\n",
       "    temperature    (lat, lon, time) float64 0.1646 0.2289 ... 0.1025 0.5703\n",
       "    precipitation  (lat, lon, time) float64 0.9583 0.9756 ... 0.183 0.07024\n",
       "Attributes:\n",
       "    history:  created for the xarray tutorial"
      ]
     },
     "execution_count": 9,
     "metadata": {},
     "output_type": "execute_result"
    }
   ],
   "source": [
    "my_ds"
   ]
  },
  {
   "cell_type": "code",
   "execution_count": null,
   "metadata": {},
   "outputs": [],
   "source": []
  }
 ],
 "metadata": {
  "kernelspec": {
   "display_name": "Python 3",
   "language": "python",
   "name": "python3"
  },
  "language_info": {
   "codemirror_mode": {
    "name": "ipython",
    "version": 3
   },
   "file_extension": ".py",
   "mimetype": "text/x-python",
   "name": "python",
   "nbconvert_exporter": "python",
   "pygments_lexer": "ipython3",
   "version": "3.6.5"
  }
 },
 "nbformat": 4,
 "nbformat_minor": 2
}
